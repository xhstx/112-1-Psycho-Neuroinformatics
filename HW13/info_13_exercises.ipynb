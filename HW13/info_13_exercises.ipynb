{
 "cells": [
  {
   "cell_type": "markdown",
   "metadata": {
    "id": "_csMLThixqfe"
   },
   "source": [
    "# Psychoinformatics - Week 13 (Exercises)\n",
    "by 徐舒庭 (b11705018@ntu.edu.tw)"
   ]
  },
  {
   "cell_type": "markdown",
   "metadata": {
    "id": "1brAlj4Bxqff"
   },
   "source": [
    "## 1 進一步研究CNN (4 points)"
   ]
  },
  {
   "cell_type": "markdown",
   "metadata": {
    "id": "qp32RDJzxqfk"
   },
   "source": [
    "### 1.1 為何ResNet50會判斷小女孩照片為ping-pong_bal, bubble, or Band_Aid? (4 points)"
   ]
  },
  {
   "cell_type": "code",
   "execution_count": 2,
   "metadata": {
    "colab": {
     "base_uri": "https://localhost:8080/"
    },
    "id": "Kp9kSMTHxqfk",
    "outputId": "a3d2f430-6e95-41c1-c6a3-b814a01d8c22"
   },
   "outputs": [
    {
     "name": "stdout",
     "output_type": "stream",
     "text": [
      "1/1 [==============================] - 0s 401ms/step\n",
      "Predicted: [('n03942813', 'ping-pong_ball', 0.17008646), ('n09229709', 'bubble', 0.10647271), ('n02786058', 'Band_Aid', 0.10364497)]\n"
     ]
    }
   ],
   "source": [
    "import numpy as np\n",
    "import urllib.request\n",
    "from tensorflow.keras.applications.resnet50 import ResNet50\n",
    "from tensorflow.keras.preprocessing import image\n",
    "from tensorflow.keras.applications.resnet50 import preprocess_input, decode_predictions\n",
    "import ssl\n",
    "\n",
    "ssl._create_default_https_context = ssl._create_unverified_context\n",
    "model = ResNet50(weights='imagenet')\n",
    "\n",
    "urllib.request.urlretrieve('http://mil.psy.ntu.edu.tw/~tren/girl.jpg','girl.jpg')\n",
    "img = image.load_img('girl.jpg', target_size=(224, 224)) # Or use cv2.resize to resize images\n",
    "x = image.img_to_array(img)\n",
    "x = np.expand_dims(x, axis=0)\n",
    "x = preprocess_input(x)\n",
    "\n",
    "preds = model.predict(x)\n",
    "# decode the results into a list of tuples (class, description, probability)\n",
    "# (one such list for each sample in the batch)\n",
    "print('Predicted:', decode_predictions(preds, top=3)[0])"
   ]
  },
  {
   "cell_type": "markdown",
   "metadata": {
    "id": "FzbWuAEkxqfl"
   },
   "source": [
    "The prediction made by ResNet50 is based on the pre-trained weights on the ImageNet dataset. Here are some possible reasons why ResNet50 misclassifies the image:\n",
    "\n",
    "1. Training Data Bias:\n",
    "\n",
    "   The model was trained on a diverse set of images from the ImageNet dataset, which contains a wide variety of classes. However, it might not have been explicitly trained on images of small girls or human faces, resulting in a potential bias.\n",
    "\n",
    "2. Similar Features:\n",
    "\n",
    "   The features in the image of the small girl may share visual similarities with images in the ImageNet classes \"ping-pong_ball,\" \"bubble,\" or \"Band_Aid.\" For example, the model might have learned patterns in the image that resemble textures, shapes, or colors associated with these classes.\n",
    "\n",
    "3. Fine-Tuning for Specific Domains:\n",
    "\n",
    "   The model may not have been fine-tuned on a dataset that includes images of small girls or specific classes related to the context of the image. Fine-tuning on relevant datasets could potentially improve predictions for specific classes."
   ]
  },
  {
   "cell_type": "markdown",
   "metadata": {
    "id": "XVYyjUtqxqfl"
   },
   "source": [
    "### 1.2 請展示有別人pre-trained好的Keras model可以成功辨認girl.jpg為人臉 (4 points)"
   ]
  },
  {
   "cell_type": "code",
   "execution_count": 20,
   "metadata": {},
   "outputs": [
    {
     "name": "stdout",
     "output_type": "stream",
     "text": [
      "1/1 [==============================] - 0s 154ms/step\n",
      "Predicted: [[\"b'Hye-kyo_Song'\", 0.25975507], [\"b'Doona_Bae'\", 0.04744418], [\"b'Tatsuya_Fujiwara'\", 0.03683515]]\n"
     ]
    }
   ],
   "source": [
    "import numpy as np\n",
    "import urllib.request\n",
    "from keras.preprocessing import image\n",
    "from keras_vggface.vggface import VGGFace\n",
    "from keras_vggface import utils\n",
    "import ssl\n",
    "\n",
    "ssl._create_default_https_context = ssl._create_unverified_context\n",
    "\n",
    "# Load VGGFace model\n",
    "model = VGGFace()\n",
    "\n",
    "# Load and preprocess the image\n",
    "urllib.request.urlretrieve('http://mil.psy.ntu.edu.tw/~tren/girl.jpg', 'girl.jpg')\n",
    "img = image.load_img('girl.jpg', target_size=(224, 224))\n",
    "x = image.img_to_array(img)\n",
    "x = np.expand_dims(x, axis=0)\n",
    "x = utils.preprocess_input(x)\n",
    "\n",
    "# Make predictions\n",
    "preds = model.predict(x)\n",
    "\n",
    "# Display the predictions\n",
    "print('Predicted:', utils.decode_predictions(preds, top=3)[0])"
   ]
  }
 ],
 "metadata": {
  "colab": {
   "provenance": []
  },
  "kernelspec": {
   "display_name": "Python 3 (ipykernel)",
   "language": "python",
   "name": "python3"
  },
  "language_info": {
   "codemirror_mode": {
    "name": "ipython",
    "version": 3
   },
   "file_extension": ".py",
   "mimetype": "text/x-python",
   "name": "python",
   "nbconvert_exporter": "python",
   "pygments_lexer": "ipython3",
   "version": "3.11.5"
  }
 },
 "nbformat": 4,
 "nbformat_minor": 1
}
